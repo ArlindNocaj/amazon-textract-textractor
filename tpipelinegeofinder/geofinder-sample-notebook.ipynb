{
 "cells": [
  {
   "cell_type": "markdown",
   "id": "1c75471f",
   "metadata": {},
   "source": [
    "## Extract information with context"
   ]
  },
  {
   "cell_type": "markdown",
   "id": "d8905718",
   "metadata": {},
   "source": [
    "amazon-textract-helper will pull in other dependencies like the pretty-printer and caller"
   ]
  },
  {
   "cell_type": "code",
   "execution_count": null,
   "id": "738b33d2",
   "metadata": {},
   "outputs": [],
   "source": [
    "!python -m pip install amazon-textract-helper amazon-textract-geofinder"
   ]
  },
  {
   "cell_type": "code",
   "execution_count": null,
   "id": "c8b6d343",
   "metadata": {},
   "outputs": [],
   "source": [
    "from textractgeofinder.ocrdb import AreaSelection\n",
    "from textractgeofinder.tgeofinder import KeyValue, TGeoFinder, AreaSelection, SelectionElement\n",
    "from textractprettyprinter.t_pretty_print import get_forms_string\n",
    "from textractcaller import call_textract\n",
    "from textractcaller.t_call import Textract_Features\n",
    "\n",
    "import trp.trp2 as t2"
   ]
  },
  {
   "cell_type": "code",
   "execution_count": null,
   "id": "2abd46ca",
   "metadata": {},
   "outputs": [],
   "source": [
    "image_filename='./tests/data/patient_intake_form_sample.jpg'"
   ]
  },
  {
   "cell_type": "markdown",
   "id": "ca0940f5",
   "metadata": {},
   "source": [
    "This is the image we want to extract information from.\n",
    "\n",
    "It has a form structure with repeating key names .\n",
    "\n",
    "For example each question does have the keys \"Yes\" and \"No\" as answers, each of those being checkboxes.\n",
    "\n",
    "The patient and emergency contact information have the same keyname \"First Name:\" or \"Last Name:\""
   ]
  },
  {
   "cell_type": "code",
   "execution_count": null,
   "id": "d9f73561",
   "metadata": {},
   "outputs": [],
   "source": [
    "from IPython.display import Image\n",
    "Image(filename=image_filename) "
   ]
  },
  {
   "cell_type": "markdown",
   "id": "4031e636",
   "metadata": {},
   "source": [
    "calling Amazon Textract with the textractcaller is easy"
   ]
  },
  {
   "cell_type": "code",
   "execution_count": null,
   "id": "65cb6ead",
   "metadata": {},
   "outputs": [],
   "source": [
    "j = call_textract(input_document=image_filename, features=[Textract_Features.FORMS])"
   ]
  },
  {
   "cell_type": "markdown",
   "id": "23ad2d9c",
   "metadata": {},
   "source": [
    "The key/value pairs include multiple ones with the same name. We need to identify the context for those"
   ]
  },
  {
   "cell_type": "code",
   "execution_count": null,
   "id": "92a472c6",
   "metadata": {},
   "outputs": [],
   "source": [
    "print(get_forms_string(j))"
   ]
  },
  {
   "cell_type": "markdown",
   "id": "0cbdfb02",
   "metadata": {},
   "source": [
    "Initializing the GeoFinder"
   ]
  },
  {
   "cell_type": "code",
   "execution_count": null,
   "id": "072d62cb",
   "metadata": {},
   "outputs": [],
   "source": [
    "t_document = t2.TDocumentSchema().load(j)\n",
    "doc_height = 1000\n",
    "doc_width = 1000\n",
    "geofinder_doc = TGeoFinder(j, doc_height=doc_height, doc_width=doc_width)"
   ]
  },
  {
   "cell_type": "markdown",
   "id": "88e82081",
   "metadata": {},
   "source": [
    "## Identify context specific information"
   ]
  },
  {
   "cell_type": "markdown",
   "id": "636a5e8a",
   "metadata": {},
   "source": [
    "set_hierachy_kv is a little function to add \"virtual\" keys which we use to indicate context"
   ]
  },
  {
   "cell_type": "code",
   "execution_count": null,
   "id": "52af37f6",
   "metadata": {},
   "outputs": [],
   "source": [
    "def set_hierarchy_kv(list_kv: list[KeyValue], t_document: t2.TDocument, page_block: t2.TBlock, prefix=\"BORROWER\"):\n",
    "    for x in list_kv:\n",
    "        t_document.add_virtual_key_for_existing_key(key_name=f\"{prefix}_{x.key.text}\",\n",
    "                                                    existing_key=t_document.get_block_by_id(x.key.id),\n",
    "                                                    page_block=page_block)"
   ]
  },
  {
   "cell_type": "markdown",
   "id": "e653b6eb",
   "metadata": {},
   "source": [
    "We find the relevant phrases in the document to specify the area of key value pairs related to the patient information."
   ]
  },
  {
   "cell_type": "code",
   "execution_count": null,
   "id": "46000d87",
   "metadata": {},
   "outputs": [],
   "source": [
    "# patient information\n",
    "patient_information = geofinder_doc.find_phrase_on_page(\"patient information\")[0]\n",
    "emergency_contact_1 = geofinder_doc.find_phrase_on_page(\"emergency contact 1:\", min_textdistance=0.99)[0]\n",
    "top_left = t2.TPoint(y=patient_information.ymax, x=0)\n",
    "lower_right = t2.TPoint(y=emergency_contact_1.ymin, x=doc_width)\n",
    "form_fields = geofinder_doc.get_form_fields_in_area(\n",
    "    area_selection=AreaSelection(top_left=top_left, lower_right=lower_right))"
   ]
  },
  {
   "cell_type": "markdown",
   "id": "42a86bc9",
   "metadata": {},
   "source": [
    "then we use this information to add new key value pairs to the Amazon Textract Response JSON Schema"
   ]
  },
  {
   "cell_type": "code",
   "execution_count": null,
   "id": "1968b041",
   "metadata": {},
   "outputs": [],
   "source": [
    "set_hierarchy_kv(list_kv=form_fields, t_document=t_document, prefix='PATIENT', page_block=t_document.pages[0])"
   ]
  },
  {
   "cell_type": "code",
   "execution_count": null,
   "id": "f699f332",
   "metadata": {},
   "outputs": [],
   "source": [
    "print(get_forms_string(t2.TDocumentSchema().dump(t_document)))"
   ]
  },
  {
   "cell_type": "markdown",
   "id": "4bffb3f5",
   "metadata": {},
   "source": [
    "The same for emergency contacts"
   ]
  },
  {
   "cell_type": "code",
   "execution_count": null,
   "id": "3f9d964a",
   "metadata": {},
   "outputs": [],
   "source": [
    "emergency_contact_2 = geofinder_doc.find_phrase_on_page(\"emergency contact 2:\", min_textdistance=0.99)[0]\n",
    "top_left = t2.TPoint(y=emergency_contact_1.ymax, x=0)\n",
    "lower_right = t2.TPoint(y=emergency_contact_2.ymin, x=doc_width)\n",
    "form_fields = geofinder_doc.get_form_fields_in_area(\n",
    "    area_selection=AreaSelection(top_left=top_left, lower_right=lower_right))\n",
    "set_hierarchy_kv(list_kv=form_fields,\n",
    "                 t_document=t_document,\n",
    "                 prefix='EMERGENCY_CONTACT_1',\n",
    "                 page_block=t_document.pages[0])\n",
    "#Emergency contact 2\n",
    "fever_question = geofinder_doc.find_phrase_on_page(\"did you feel fever or feverish lately\")[0]\n",
    "top_left = t2.TPoint(y=emergency_contact_2.ymax, x=0)\n",
    "lower_right = t2.TPoint(y=fever_question.ymin, x=doc_width)\n",
    "form_fields = geofinder_doc.get_form_fields_in_area(\n",
    "    area_selection=AreaSelection(top_left=top_left, lower_right=lower_right))\n",
    "set_hierarchy_kv(list_kv=form_fields,\n",
    "                 t_document=t_document,\n",
    "                 prefix='EMERGENCY_CONTACT_2',\n",
    "                 page_block=t_document.pages[0])\n"
   ]
  },
  {
   "cell_type": "code",
   "execution_count": null,
   "id": "c4e51fa6",
   "metadata": {},
   "outputs": [],
   "source": [
    "print(get_forms_string(t2.TDocumentSchema().dump(t_document)))"
   ]
  },
  {
   "cell_type": "markdown",
   "id": "c4e30de9",
   "metadata": {},
   "source": [
    "This function makes it easier to add selection elements to the Amazon Textract Response JSON schema"
   ]
  },
  {
   "cell_type": "code",
   "execution_count": null,
   "id": "3ebff27d",
   "metadata": {},
   "outputs": [],
   "source": [
    "def add_sel_elements(t_document: t2.TDocument, selection_values: list[SelectionElement], key_base_name: str,\n",
    "                     page_block: t2.TBlock) -> t2.TDocument:\n",
    "    for sel_element in selection_values:\n",
    "        sel_key_string = \"_\".join([s_key.original_text.upper() for s_key in sel_element.key if s_key.original_text])\n",
    "        if sel_key_string:\n",
    "            if sel_element.selection.original_text:\n",
    "                t_document.add_key_values(page_block=page_block,\n",
    "                                          key_name=f\"{key_base_name}->{sel_key_string}\",\n",
    "                                          values=[t_document.get_block_by_id(sel_element.selection.id)])\n",
    "    return t_document\n"
   ]
  },
  {
   "cell_type": "markdown",
   "id": "d785fffd",
   "metadata": {},
   "source": [
    "Now we can identify the areas of the questions and add those to the JSON response schema as well"
   ]
  },
  {
   "cell_type": "code",
   "execution_count": null,
   "id": "c9842866",
   "metadata": {},
   "outputs": [],
   "source": [
    "top_left = t2.TPoint(y=fever_question.ymin - 50, x=0)\n",
    "lower_right = t2.TPoint(y=fever_question.ymax + 50, x=doc_width)\n",
    "sel_values: list[SelectionElement] = geofinder_doc.get_selection_values_in_area(area_selection=AreaSelection(\n",
    "    top_left=top_left, lower_right=lower_right),\n",
    "                                                                                exclude_ids=[])\n",
    "t_document = add_sel_elements(t_document=t_document,\n",
    "                 selection_values=sel_values,\n",
    "                 key_base_name=\"FEVER\",\n",
    "                 page_block=t_document.pages[0])\n",
    "\n",
    "# shortness breath\n",
    "shortness_question = geofinder_doc.find_phrase_on_page(\"Are you having shortness of breath\")[0]\n",
    "top_left = t2.TPoint(y=shortness_question.ymin - 50, x=0)\n",
    "lower_right = t2.TPoint(y=shortness_question.ymax + 50, x=doc_width)\n",
    "sel_values: list[SelectionElement] = geofinder_doc.get_selection_values_in_area(area_selection=AreaSelection(\n",
    "    top_left=top_left, lower_right=lower_right),\n",
    "                                                                                exclude_ids=[])\n",
    "t_document = add_sel_elements(t_document=t_document,\n",
    "                 selection_values=sel_values,\n",
    "                 key_base_name=\"SHORTNESS\",\n",
    "                 page_block=t_document.pages[0])\n",
    "\n",
    "# cough breath\n",
    "question = geofinder_doc.find_phrase_on_page(\"Do you have a cough\")[0]\n",
    "top_left = t2.TPoint(y=question.ymin - 50, x=0)\n",
    "lower_right = t2.TPoint(y=question.ymax + 50, x=doc_width)\n",
    "sel_values: list[SelectionElement] = geofinder_doc.get_selection_values_in_area(area_selection=AreaSelection(\n",
    "    top_left=top_left, lower_right=lower_right),\n",
    "                                                                                exclude_ids=[])\n",
    "t_document = add_sel_elements(t_document=t_document,\n",
    "                 selection_values=sel_values,\n",
    "                 key_base_name=\"COUGH\",\n",
    "                 page_block=t_document.pages[0])\n",
    "# loss of taste\n",
    "question = geofinder_doc.find_phrase_on_page(\"Did you experience loss of taste or smell\")[0]\n",
    "top_left = t2.TPoint(y=question.ymin - 50, x=0)\n",
    "lower_right = t2.TPoint(y=question.ymax + 50, x=doc_width)\n",
    "sel_values: list[SelectionElement] = geofinder_doc.get_selection_values_in_area(area_selection=AreaSelection(\n",
    "    top_left=top_left, lower_right=lower_right),\n",
    "                                                                                exclude_ids=[])\n",
    "t_document = add_sel_elements(t_document=t_document,\n",
    "                 selection_values=sel_values,\n",
    "                 key_base_name=\"LOSS_OF_TASTE\",\n",
    "                 page_block=t_document.pages[0])\n",
    "# COVID Contact\n",
    "question = geofinder_doc.find_phrase_on_page(\"Where you in contact with any confirmed\")[0]\n",
    "top_left = t2.TPoint(y=question.ymin - 50, x=0)\n",
    "lower_right = t2.TPoint(y=question.ymax + 50, x=doc_width)\n",
    "sel_values: list[SelectionElement] = geofinder_doc.get_selection_values_in_area(area_selection=AreaSelection(\n",
    "    top_left=top_left, lower_right=lower_right),\n",
    "                                                                                exclude_ids=[])\n",
    "t_document = add_sel_elements(t_document=t_document,\n",
    "                 selection_values=sel_values,\n",
    "                 key_base_name=\"COVID_CONTACT\",\n",
    "                 page_block=t_document.pages[0])\n",
    "# travel\n",
    "question = geofinder_doc.find_phrase_on_page(\"Did you travel in the past 14 days\")[0]\n",
    "top_left = t2.TPoint(y=question.ymin - 50, x=0)\n",
    "lower_right = t2.TPoint(y=question.ymax + 50, x=doc_width)\n",
    "sel_values: list[SelectionElement] = geofinder_doc.get_selection_values_in_area(area_selection=AreaSelection(\n",
    "    top_left=top_left, lower_right=lower_right),\n",
    "                                                                                exclude_ids=[])\n",
    "t_document = add_sel_elements(t_document=t_document,\n",
    "                 selection_values=sel_values,\n",
    "                 key_base_name=\"TRAVEL\",\n",
    "                 page_block=t_document.pages[0])\n"
   ]
  },
  {
   "cell_type": "markdown",
   "id": "b7a5d225",
   "metadata": {},
   "source": [
    "All the keys now have a context which makes it possible to parse the response in downstream processes"
   ]
  },
  {
   "cell_type": "code",
   "execution_count": null,
   "id": "db565318",
   "metadata": {
    "scrolled": true
   },
   "outputs": [],
   "source": [
    "print(get_forms_string(t2.TDocumentSchema().dump(t_document)))"
   ]
  },
  {
   "cell_type": "markdown",
   "id": "ea632c59",
   "metadata": {},
   "source": [
    "Here a little snippet how we can use Amazon Textract FORMS information in a Pandas dataframe"
   ]
  },
  {
   "cell_type": "code",
   "execution_count": null,
   "id": "62a74053",
   "metadata": {},
   "outputs": [],
   "source": [
    "!python -m pip install pandas"
   ]
  },
  {
   "cell_type": "code",
   "execution_count": null,
   "id": "50e31685",
   "metadata": {},
   "outputs": [],
   "source": [
    "import pandas as pd"
   ]
  },
  {
   "cell_type": "code",
   "execution_count": null,
   "id": "29c2ce05",
   "metadata": {},
   "outputs": [],
   "source": [
    "from textractprettyprinter.t_pretty_print import convert_form_to_list\n",
    "from trp import Document\n",
    "\n",
    "tdoc=Document(t2.TDocumentSchema().dump(t_document))\n",
    "dfs = list()\n",
    "for page in tdoc.pages:\n",
    "    dfs.append(pd.DataFrame(convert_form_to_list(trp_form=page.form)))"
   ]
  },
  {
   "cell_type": "code",
   "execution_count": null,
   "id": "f5ac6b5e",
   "metadata": {},
   "outputs": [],
   "source": [
    "dfs[0]"
   ]
  },
  {
   "cell_type": "code",
   "execution_count": null,
   "id": "508dbf46",
   "metadata": {},
   "outputs": [],
   "source": []
  }
 ],
 "metadata": {
  "kernelspec": {
   "display_name": "Python 3 (ipykernel)",
   "language": "python",
   "name": "python3"
  },
  "language_info": {
   "codemirror_mode": {
    "name": "ipython",
    "version": 3
   },
   "file_extension": ".py",
   "mimetype": "text/x-python",
   "name": "python",
   "nbconvert_exporter": "python",
   "pygments_lexer": "ipython3",
   "version": "3.9.6"
  }
 },
 "nbformat": 4,
 "nbformat_minor": 5
}
